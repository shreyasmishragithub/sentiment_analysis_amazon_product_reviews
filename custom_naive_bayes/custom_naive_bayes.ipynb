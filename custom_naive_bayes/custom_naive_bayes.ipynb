{
 "cells": [
  {
   "cell_type": "code",
   "execution_count": 1,
   "metadata": {},
   "outputs": [],
   "source": [
    "import json\n",
    "import csv\n",
    "import pandas as pd\n",
    "from stop_words import get_stop_words\n",
    "import re\n",
    "import string\n",
    "from sklearn.model_selection import train_test_split\n",
    "\n",
    "import warnings\n",
    "warnings.simplefilter(\"ignore\")"
   ]
  },
  {
   "cell_type": "code",
   "execution_count": 2,
   "metadata": {},
   "outputs": [
    {
     "name": "stderr",
     "output_type": "stream",
     "text": [
      "b'Skipping line 1680001: expected 15 fields, saw 22\\n'\n"
     ]
    },
    {
     "data": {
      "text/html": [
       "<div>\n",
       "<style scoped>\n",
       "    .dataframe tbody tr th:only-of-type {\n",
       "        vertical-align: middle;\n",
       "    }\n",
       "\n",
       "    .dataframe tbody tr th {\n",
       "        vertical-align: top;\n",
       "    }\n",
       "\n",
       "    .dataframe thead th {\n",
       "        text-align: right;\n",
       "    }\n",
       "</style>\n",
       "<table border=\"1\" class=\"dataframe\">\n",
       "  <thead>\n",
       "    <tr style=\"text-align: right;\">\n",
       "      <th></th>\n",
       "      <th>marketplace</th>\n",
       "      <th>customer_id</th>\n",
       "      <th>review_id</th>\n",
       "      <th>product_id</th>\n",
       "      <th>product_parent</th>\n",
       "      <th>product_title</th>\n",
       "      <th>product_category</th>\n",
       "      <th>star_rating</th>\n",
       "      <th>helpful_votes</th>\n",
       "      <th>total_votes</th>\n",
       "      <th>vine</th>\n",
       "      <th>verified_purchase</th>\n",
       "      <th>review_headline</th>\n",
       "      <th>review_body</th>\n",
       "      <th>review_date</th>\n",
       "    </tr>\n",
       "  </thead>\n",
       "  <tbody>\n",
       "    <tr>\n",
       "      <th>0</th>\n",
       "      <td>US</td>\n",
       "      <td>12076615</td>\n",
       "      <td>RQ58W7SMO911M</td>\n",
       "      <td>0385730586</td>\n",
       "      <td>122662979</td>\n",
       "      <td>Sisterhood of the Traveling Pants (Book 1)</td>\n",
       "      <td>Books</td>\n",
       "      <td>4.0</td>\n",
       "      <td>2.0</td>\n",
       "      <td>3.0</td>\n",
       "      <td>N</td>\n",
       "      <td>N</td>\n",
       "      <td>this book was a great learning novel!</td>\n",
       "      <td>this boook was a great one that you could lear...</td>\n",
       "      <td>2005-10-14</td>\n",
       "    </tr>\n",
       "    <tr>\n",
       "      <th>1</th>\n",
       "      <td>US</td>\n",
       "      <td>12703090</td>\n",
       "      <td>RF6IUKMGL8SF</td>\n",
       "      <td>0811828964</td>\n",
       "      <td>56191234</td>\n",
       "      <td>The Bad Girl's Guide to Getting What You Want</td>\n",
       "      <td>Books</td>\n",
       "      <td>3.0</td>\n",
       "      <td>5.0</td>\n",
       "      <td>5.0</td>\n",
       "      <td>N</td>\n",
       "      <td>N</td>\n",
       "      <td>Fun Fluff</td>\n",
       "      <td>If you are looking for something to stimulate ...</td>\n",
       "      <td>2005-10-14</td>\n",
       "    </tr>\n",
       "    <tr>\n",
       "      <th>2</th>\n",
       "      <td>US</td>\n",
       "      <td>12257412</td>\n",
       "      <td>R1DOSHH6AI622S</td>\n",
       "      <td>1844161560</td>\n",
       "      <td>253182049</td>\n",
       "      <td>Eisenhorn (A Warhammer 40,000 Omnibus)</td>\n",
       "      <td>Books</td>\n",
       "      <td>4.0</td>\n",
       "      <td>1.0</td>\n",
       "      <td>22.0</td>\n",
       "      <td>N</td>\n",
       "      <td>N</td>\n",
       "      <td>this isn't a review</td>\n",
       "      <td>never read it-a young relative idicated he lik...</td>\n",
       "      <td>2005-10-14</td>\n",
       "    </tr>\n",
       "    <tr>\n",
       "      <th>3</th>\n",
       "      <td>US</td>\n",
       "      <td>50732546</td>\n",
       "      <td>RATOTLA3OF70O</td>\n",
       "      <td>0373836635</td>\n",
       "      <td>348672532</td>\n",
       "      <td>Colby Conspiracy (Colby Agency)</td>\n",
       "      <td>Books</td>\n",
       "      <td>5.0</td>\n",
       "      <td>2.0</td>\n",
       "      <td>2.0</td>\n",
       "      <td>N</td>\n",
       "      <td>N</td>\n",
       "      <td>fine author on her A-game</td>\n",
       "      <td>Though she is honored to be Chicago Woman of t...</td>\n",
       "      <td>2005-10-14</td>\n",
       "    </tr>\n",
       "    <tr>\n",
       "      <th>4</th>\n",
       "      <td>US</td>\n",
       "      <td>51964897</td>\n",
       "      <td>R1TNWRKIVHVYOV</td>\n",
       "      <td>0262181533</td>\n",
       "      <td>598678717</td>\n",
       "      <td>The Psychology of Proof: Deductive Reasoning i...</td>\n",
       "      <td>Books</td>\n",
       "      <td>4.0</td>\n",
       "      <td>0.0</td>\n",
       "      <td>2.0</td>\n",
       "      <td>N</td>\n",
       "      <td>N</td>\n",
       "      <td>Execellent cursor examination</td>\n",
       "      <td>Review based on a cursory examination by Unive...</td>\n",
       "      <td>2005-10-14</td>\n",
       "    </tr>\n",
       "  </tbody>\n",
       "</table>\n",
       "</div>"
      ],
      "text/plain": [
       "  marketplace  customer_id       review_id  product_id  product_parent  \\\n",
       "0          US     12076615   RQ58W7SMO911M  0385730586       122662979   \n",
       "1          US     12703090    RF6IUKMGL8SF  0811828964        56191234   \n",
       "2          US     12257412  R1DOSHH6AI622S  1844161560       253182049   \n",
       "3          US     50732546   RATOTLA3OF70O  0373836635       348672532   \n",
       "4          US     51964897  R1TNWRKIVHVYOV  0262181533       598678717   \n",
       "\n",
       "                                       product_title product_category  \\\n",
       "0         Sisterhood of the Traveling Pants (Book 1)            Books   \n",
       "1      The Bad Girl's Guide to Getting What You Want            Books   \n",
       "2             Eisenhorn (A Warhammer 40,000 Omnibus)            Books   \n",
       "3                    Colby Conspiracy (Colby Agency)            Books   \n",
       "4  The Psychology of Proof: Deductive Reasoning i...            Books   \n",
       "\n",
       "   star_rating  helpful_votes  total_votes vine verified_purchase  \\\n",
       "0          4.0            2.0          3.0    N                 N   \n",
       "1          3.0            5.0          5.0    N                 N   \n",
       "2          4.0            1.0         22.0    N                 N   \n",
       "3          5.0            2.0          2.0    N                 N   \n",
       "4          4.0            0.0          2.0    N                 N   \n",
       "\n",
       "                         review_headline  \\\n",
       "0  this book was a great learning novel!   \n",
       "1                              Fun Fluff   \n",
       "2                    this isn't a review   \n",
       "3              fine author on her A-game   \n",
       "4          Execellent cursor examination   \n",
       "\n",
       "                                         review_body review_date  \n",
       "0  this boook was a great one that you could lear...  2005-10-14  \n",
       "1  If you are looking for something to stimulate ...  2005-10-14  \n",
       "2  never read it-a young relative idicated he lik...  2005-10-14  \n",
       "3  Though she is honored to be Chicago Woman of t...  2005-10-14  \n",
       "4  Review based on a cursory examination by Unive...  2005-10-14  "
      ]
     },
     "execution_count": 2,
     "metadata": {},
     "output_type": "execute_result"
    }
   ],
   "source": [
    "review_data_path = 'amazon_reviews_us_Books_v1_02.tsv'\n",
    "\n",
    "reviews = pd.read_table(review_data_path, error_bad_lines=False, encoding='utf-8')\n",
    "\n",
    "reviews.head()"
   ]
  },
  {
   "cell_type": "code",
   "execution_count": 3,
   "metadata": {},
   "outputs": [],
   "source": [
    "df = reviews.copy()[['star_rating', 'review_body']]"
   ]
  },
  {
   "cell_type": "code",
   "execution_count": 4,
   "metadata": {},
   "outputs": [
    {
     "data": {
      "text/plain": [
       "ratings\n",
       "Negative     404588\n",
       "Neutral      249917\n",
       "Positive    2450865\n",
       "dtype: int64"
      ]
     },
     "execution_count": 4,
     "metadata": {},
     "output_type": "execute_result"
    }
   ],
   "source": [
    "def partition(x):\n",
    "    if x<3:\n",
    "        return 'Negative'\n",
    "    elif x>3:\n",
    "        return 'Positive'\n",
    "    return 'Neutral'\n",
    "\n",
    "actualScore = df['star_rating']\n",
    "positiveNegative = actualScore.map(partition)\n",
    "df['ratings'] = positiveNegative\n",
    "\n",
    "df.groupby('ratings').size()"
   ]
  },
  {
   "cell_type": "code",
   "execution_count": 5,
   "metadata": {},
   "outputs": [
    {
     "data": {
      "text/plain": [
       "\"\\n# Set up training and test sets by choosing random samples from classes\\nX_train, X_test, y_train, y_test = train_test_split(df['review_body'], df['ratings'], test_size=0.25, random_state=0)\\n\\ndf_test = pd.concat([X_test, y_test], axis=1)\\ndf_test = df_test.iloc[:100000,:]\\ndf_test.to_csv('test.csv', header=True, index=False, encoding='utf-8')\\n\""
      ]
     },
     "execution_count": 5,
     "metadata": {},
     "output_type": "execute_result"
    }
   ],
   "source": [
    "\"\"\"\n",
    "# Set up training and test sets by choosing random samples from classes\n",
    "X_train, X_test, y_train, y_test = train_test_split(df['review_body'], df['ratings'], test_size=0.25, random_state=0)\n",
    "\n",
    "df_test = pd.concat([X_test, y_test], axis=1)\n",
    "df_test = df_test.iloc[:100000,:]\n",
    "df_test.to_csv('test.csv', header=True, index=False, encoding='utf-8')\n",
    "\"\"\""
   ]
  },
  {
   "cell_type": "code",
   "execution_count": 6,
   "metadata": {},
   "outputs": [],
   "source": [
    "df = df.sort_values('ratings')"
   ]
  },
  {
   "cell_type": "code",
   "execution_count": 7,
   "metadata": {},
   "outputs": [
    {
     "data": {
      "text/plain": [
       "ratings\n",
       "Negative     404588\n",
       "Neutral      249917\n",
       "Positive    2450865\n",
       "dtype: int64"
      ]
     },
     "execution_count": 7,
     "metadata": {},
     "output_type": "execute_result"
    }
   ],
   "source": [
    "df = df.sort_values('ratings')\n",
    "\n",
    "df.groupby('ratings').size()"
   ]
  },
  {
   "cell_type": "code",
   "execution_count": 8,
   "metadata": {},
   "outputs": [],
   "source": [
    "# Define number of classes and number of tweets per class\n",
    "n_class = 3\n",
    "\n",
    "# Divide into number of classes\n",
    "if n_class == 2:\n",
    "    df_pos = df.copy()[df.ratings == 'Positive'][123977:128977]\n",
    "    df_neg = df.copy()[df.ratings == 'Negative'][:5000]\n",
    "    df_neu = pd.DataFrame()\n",
    "    df = pd.concat([df_pos, df_neg], ignore_index=True).reset_index(drop=True)\n",
    "elif n_class == 3:\n",
    "    df_neg = df.copy()[df.ratings == 'Negative'][:5000]\n",
    "    df_neu = df.copy()[df.ratings == 'Neutral'][404588:409588]\n",
    "    df_pos = df.copy()[df.ratings == 'Positive'][654505:659505]\n",
    "    df = pd.concat([df_pos, df_neg, df_neu], ignore_index=True).reset_index(drop=True)\n",
    "\n",
    "# Define functions to process Tweet text and remove stop words\n",
    "def ProReviews(review):\n",
    "    review = ''.join(c for c in review if c not in string.punctuation)\n",
    "    review = re.sub('((www\\S+)|(http\\S+))', 'urlsite', review)\n",
    "    review = re.sub(r'\\d+', 'contnum', review)\n",
    "    review = re.sub(' +',' ', review)\n",
    "    review = review.lower().strip()\n",
    "    return review\n",
    "\n",
    "def rmStopWords(review, stop_words):\n",
    "    text = review.split()\n",
    "    text = ' '.join(word for word in text if word not in stop_words)\n",
    "    return text"
   ]
  },
  {
   "cell_type": "code",
   "execution_count": 9,
   "metadata": {},
   "outputs": [],
   "source": [
    "# Get list of stop words\n",
    "stop_words = get_stop_words('english')\n",
    "stop_words = [''.join(c for c in s if c not in string.punctuation) for s in stop_words]\n",
    "stop_words = [t.encode('utf-8') for t in stop_words]\n",
    "\n",
    "# Preprocess all tweet data\n",
    "pro_reviews = []\n",
    "for review in df['review_body']:\n",
    "    processed = ProReviews(review)\n",
    "    pro_stopw = rmStopWords(processed, stop_words)\n",
    "    pro_reviews.append(pro_stopw)\n",
    "\n",
    "df['reviews'] = pro_reviews"
   ]
  },
  {
   "cell_type": "code",
   "execution_count": 10,
   "metadata": {},
   "outputs": [
    {
     "data": {
      "text/plain": [
       "\"\\ndf_test = pd.read_csv('test.csv')\\ndf_test = df_test.reset_index(drop=True)\\ndf_test = df_test.iloc[2000:,:]\\n\""
      ]
     },
     "execution_count": 10,
     "metadata": {},
     "output_type": "execute_result"
    }
   ],
   "source": [
    "# Set up training and test sets by choosing random samples from classes\n",
    "X_train, X_test, y_train, y_test = train_test_split(df['reviews'], df['ratings'], test_size=0.33, random_state=1)\n",
    "\n",
    "df_train = pd.DataFrame()\n",
    "df_test = pd.DataFrame()\n",
    "\n",
    "df_train['reviews'] = X_train\n",
    "df_train['ratings'] = y_train\n",
    "df_train = df_train.reset_index(drop=True)\n",
    "\n",
    "df_test['reviews'] = X_test\n",
    "df_test['ratings'] = y_test\n",
    "df_test = df_test.reset_index(drop=True)\n",
    "\n",
    "\n",
    "df_test = pd.read_csv('test.csv')\n",
    "df_test = df_test.reset_index(drop=True)"
   ]
  },
  {
   "cell_type": "code",
   "execution_count": 11,
   "metadata": {},
   "outputs": [],
   "source": [
    "from collections import Counter\n",
    "import numpy as np\n",
    "\n",
    "\n",
    "# Start training (input training set df_train)\n",
    "class AmazonNBClassifier(object):\n",
    "\n",
    "    def __init__(self, df_train):\n",
    "        self.df_train = df_train\n",
    "        self.df_pos = df_train.copy()[df_train.ratings == 'Positive']\n",
    "        self.df_neg = df_train.copy()[df_train.ratings == 'Negative']\n",
    "        self.df_neu = df_train.copy()[df_train.ratings == 'Neutral']\n",
    "\n",
    "    def fit(self):\n",
    "        Pr_pos = df_pos.shape[0]/self.df_train.shape[0]\n",
    "        Pr_neg = df_neg.shape[0]/self.df_train.shape[0]\n",
    "        Pr_neu = df_neu.shape[0]/self.df_train.shape[0]\n",
    "        self.Prior  = (Pr_pos, Pr_neg, Pr_neu)\n",
    "\n",
    "        self.pos_words = ' '.join(self.df_pos['reviews'].tolist()).split()\n",
    "        self.neg_words = ' '.join(self.df_neg['reviews'].tolist()).split()\n",
    "        self.neu_words = ' '.join(self.df_neu['reviews'].tolist()).split()\n",
    "\n",
    "        all_words = ' '.join(self.df_train['reviews'].tolist()).split()\n",
    "\n",
    "        self.vocab = len(Counter(all_words))\n",
    "\n",
    "        wc_pos = len(' '.join(self.df_pos['reviews'].tolist()).split())\n",
    "        wc_neg = len(' '.join(self.df_neg['reviews'].tolist()).split())\n",
    "        wc_neu = len(' '.join(self.df_neu['reviews'].tolist()).split())\n",
    "        self.word_count = (wc_pos, wc_neg, wc_neu)\n",
    "        return self\n",
    "\n",
    "\n",
    "    def predict(self, df_test):\n",
    "        class_choice = ['Positive', 'Negative', 'Neutral']\n",
    "\n",
    "        classification = []\n",
    "        for review in df_test['reviews']:\n",
    "            text = review.split()\n",
    "\n",
    "            val_pos = np.array([])\n",
    "            val_neg = np.array([])\n",
    "            val_neu = np.array([])\n",
    "            for word in text:\n",
    "                tmp_pos = np.log((self.pos_words.count(word)+1)/(self.word_count[0]+self.vocab))\n",
    "                tmp_neg = np.log((self.neg_words.count(word)+1)/(self.word_count[1]+self.vocab))\n",
    "                tmp_neu = np.log((self.neu_words.count(word)+1)/(self.word_count[2]+self.vocab))\n",
    "                val_pos = np.append(val_pos, tmp_pos)\n",
    "                val_neg = np.append(val_neg, tmp_neg)\n",
    "                val_neu = np.append(val_neu, tmp_neu)\n",
    "\n",
    "            val_pos = np.log(self.Prior[0]) + np.sum(val_pos)\n",
    "            val_neg = np.log(self.Prior[1]) + np.sum(val_neg)\n",
    "            val_neu = np.log(self.Prior[2]) + np.sum(val_neu)\n",
    "\n",
    "            probability = (val_pos, val_neg, val_neu)\n",
    "            classification.append(class_choice[np.argmax(probability)])\n",
    "        return classification\n",
    "\n",
    "\n",
    "    def score(self, feature, target):\n",
    "\n",
    "        compare = []\n",
    "        for i in range(0,len(feature)):\n",
    "            if feature[i] == target[i]:\n",
    "                tmp ='correct'\n",
    "                compare.append(tmp)\n",
    "            else:\n",
    "                tmp ='incorrect'\n",
    "                compare.append(tmp)\n",
    "        r = Counter(compare)\n",
    "        accuracy = r['correct']/(r['correct']+r['incorrect'])\n",
    "        return accuracy"
   ]
  },
  {
   "cell_type": "code",
   "execution_count": 12,
   "metadata": {},
   "outputs": [
    {
     "name": "stdout",
     "output_type": "stream",
     "text": [
      "training complete\n",
      "0.9090909090909091\n"
     ]
    }
   ],
   "source": [
    "rnb = AmazonNBClassifier(df_train)\n",
    "rnb = rnb.fit()\n",
    "print ('training complete')\n",
    "predict = rnb.predict(df_test)\n",
    "score = rnb.score(predict,df_test.ratings.tolist())\n",
    "print(score)"
   ]
  },
  {
   "cell_type": "code",
   "execution_count": null,
   "metadata": {},
   "outputs": [],
   "source": []
  }
 ],
 "metadata": {
  "kernelspec": {
   "display_name": "Python 3",
   "language": "python",
   "name": "python3"
  },
  "language_info": {
   "codemirror_mode": {
    "name": "ipython",
    "version": 3
   },
   "file_extension": ".py",
   "mimetype": "text/x-python",
   "name": "python",
   "nbconvert_exporter": "python",
   "pygments_lexer": "ipython3",
   "version": "3.7.0"
  }
 },
 "nbformat": 4,
 "nbformat_minor": 2
}
