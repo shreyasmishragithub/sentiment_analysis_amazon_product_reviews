{
  "nbformat": 4,
  "nbformat_minor": 0,
  "metadata": {
    "colab": {
      "name": "Pyspark_sentiment_Analysis.ipynb",
      "provenance": [],
      "collapsed_sections": []
    },
    "kernelspec": {
      "name": "python3",
      "display_name": "Python 3"
    }
  },
  "cells": [
    {
      "cell_type": "code",
      "metadata": {
        "id": "nksCw0uP5y19",
        "colab_type": "code",
        "outputId": "19d6db05-3980-4d49-ce96-4f1c1ca9dbd1",
        "colab": {
          "base_uri": "https://localhost:8080/",
          "height": 34
        }
      },
      "source": [
        "from google.colab import drive\n",
        "drive.mount('/content/drive')\n"
      ],
      "execution_count": 0,
      "outputs": [
        {
          "output_type": "stream",
          "text": [
            "Drive already mounted at /content/drive; to attempt to forcibly remount, call drive.mount(\"/content/drive\", force_remount=True).\n"
          ],
          "name": "stdout"
        }
      ]
    },
    {
      "cell_type": "code",
      "metadata": {
        "id": "JRV_Bmki54AN",
        "colab_type": "code",
        "colab": {}
      },
      "source": [
        "!apt-get install openjdk-8-jdk-headless -qq > /dev/null\n",
        "!wget -q http://www-eu.apache.org/dist/spark/spark-2.4.5/spark-2.4.5-bin-hadoop2.7.tgz\n",
        "!tar xf spark-2.4.5-bin-hadoop2.7.tgz\n",
        "!pip install -q findspark"
      ],
      "execution_count": 0,
      "outputs": []
    },
    {
      "cell_type": "code",
      "metadata": {
        "id": "qRggd2kZ6FgV",
        "colab_type": "code",
        "colab": {}
      },
      "source": [
        "import os\n",
        "os.environ[\"JAVA_HOME\"] = \"/usr/lib/jvm/java-8-openjdk-amd64\"\n",
        "os.environ[\"SPARK_HOME\"] = \"/content/spark-2.4.5-bin-hadoop2.7\""
      ],
      "execution_count": 0,
      "outputs": []
    },
    {
      "cell_type": "code",
      "metadata": {
        "id": "FYJKyovf6HfX",
        "colab_type": "code",
        "colab": {}
      },
      "source": [
        "import findspark\n",
        "findspark.init()"
      ],
      "execution_count": 0,
      "outputs": []
    },
    {
      "cell_type": "code",
      "metadata": {
        "id": "CuZbU1CS6RX0",
        "colab_type": "code",
        "colab": {}
      },
      "source": [
        "from pyspark import SparkContext\n",
        "from pyspark.sql import SparkSession"
      ],
      "execution_count": 0,
      "outputs": []
    },
    {
      "cell_type": "code",
      "metadata": {
        "id": "mo7jHA8b6T8u",
        "colab_type": "code",
        "colab": {}
      },
      "source": [
        "from pyspark import SparkConf"
      ],
      "execution_count": 0,
      "outputs": []
    },
    {
      "cell_type": "code",
      "metadata": {
        "id": "AMINEWDK6V6T",
        "colab_type": "code",
        "colab": {}
      },
      "source": [
        "from pyspark.ml.feature import Tokenizer, RegexTokenizer\n",
        "from pyspark.sql.functions import col, udf\n",
        "from pyspark.sql.types import IntegerType"
      ],
      "execution_count": 0,
      "outputs": []
    },
    {
      "cell_type": "code",
      "metadata": {
        "id": "Ii3_vON56X4t",
        "colab_type": "code",
        "colab": {}
      },
      "source": [
        "from pyspark.sql.functions import udf\n",
        "from pyspark.sql.types import StringType\n",
        "from pyspark.sql.functions import col"
      ],
      "execution_count": 0,
      "outputs": []
    },
    {
      "cell_type": "code",
      "metadata": {
        "id": "KTtc9I3Z6Z9x",
        "colab_type": "code",
        "colab": {}
      },
      "source": [
        "MAX_MEMORY = \"10g\"\n",
        "\n",
        "spark = SparkSession \\\n",
        "    .builder \\\n",
        "    .appName(\"Foo\") \\\n",
        "    .config(\"spark.executor.memory\", MAX_MEMORY) \\\n",
        "    .config(\"spark.driver.memory\", MAX_MEMORY) \\\n",
        "    .getOrCreate()"
      ],
      "execution_count": 0,
      "outputs": []
    },
    {
      "cell_type": "code",
      "metadata": {
        "id": "wlkKa-Lv6cd5",
        "colab_type": "code",
        "colab": {}
      },
      "source": [
        "from pyspark.sql import SQLContext\n",
        "sqlCtx = SQLContext(spark)"
      ],
      "execution_count": 0,
      "outputs": []
    },
    {
      "cell_type": "code",
      "metadata": {
        "id": "bB0-jbg_6f_g",
        "colab_type": "code",
        "colab": {}
      },
      "source": [
        "df = spark.read.csv(\"/content/drive/My Drive/a_r_headline_token.csv\", header = \"true\")"
      ],
      "execution_count": 0,
      "outputs": []
    },
    {
      "cell_type": "code",
      "metadata": {
        "id": "mifniVoU6jcO",
        "colab_type": "code",
        "outputId": "761a9658-4a1a-4743-81f9-d16a2f683a4c",
        "colab": {
          "base_uri": "https://localhost:8080/",
          "height": 34
        }
      },
      "source": [
        "df.count()"
      ],
      "execution_count": 0,
      "outputs": [
        {
          "output_type": "execute_result",
          "data": {
            "text/plain": [
              "3105184"
            ]
          },
          "metadata": {
            "tags": []
          },
          "execution_count": 12
        }
      ]
    },
    {
      "cell_type": "code",
      "metadata": {
        "id": "cQLfzpA06qNK",
        "colab_type": "code",
        "outputId": "94f0e6f8-48fb-4bbb-bc67-c2550895be9a",
        "colab": {
          "base_uri": "https://localhost:8080/",
          "height": 84
        }
      },
      "source": [
        "df.printSchema()"
      ],
      "execution_count": 0,
      "outputs": [
        {
          "output_type": "stream",
          "text": [
            "root\n",
            " |-- star_rating: string (nullable = true)\n",
            " |-- tokenized_headlines: string (nullable = true)\n",
            "\n"
          ],
          "name": "stdout"
        }
      ]
    },
    {
      "cell_type": "code",
      "metadata": {
        "id": "G0gyiSAg7Kcf",
        "colab_type": "code",
        "colab": {}
      },
      "source": [
        "from pyspark.sql.functions import col, regexp_replace, split\n",
        "df_mod= df.withColumn(\n",
        "    \"features\",\n",
        "    split(regexp_replace(col(\"tokenized_headlines\"), r\"(^\\[)|(\\]$)|(')\", \"\"), \",\")\n",
        ")"
      ],
      "execution_count": 0,
      "outputs": []
    },
    {
      "cell_type": "code",
      "metadata": {
        "id": "7ehGoIO8uJHv",
        "colab_type": "code",
        "outputId": "ebc1389b-675a-4a62-a097-2e0cb21b0bbc",
        "colab": {
          "base_uri": "https://localhost:8080/",
          "height": 118
        }
      },
      "source": [
        "df_mod.printSchema()"
      ],
      "execution_count": 0,
      "outputs": [
        {
          "output_type": "stream",
          "text": [
            "root\n",
            " |-- star_rating: string (nullable = true)\n",
            " |-- tokenized_headlines: string (nullable = true)\n",
            " |-- features: array (nullable = true)\n",
            " |    |-- element: string (containsNull = true)\n",
            "\n"
          ],
          "name": "stdout"
        }
      ]
    },
    {
      "cell_type": "code",
      "metadata": {
        "id": "PJLWITPY6s52",
        "colab_type": "code",
        "colab": {}
      },
      "source": [
        "from pyspark.ml.feature import CountVectorizer\n",
        "cv = CountVectorizer(inputCol=\"features\", outputCol=\"tok_features\")"
      ],
      "execution_count": 0,
      "outputs": []
    },
    {
      "cell_type": "code",
      "metadata": {
        "id": "1WbC-GOx69ha",
        "colab_type": "code",
        "outputId": "50b1094d-b4ed-4d1a-92f1-ab73adaf8f3e",
        "colab": {
          "base_uri": "https://localhost:8080/",
          "height": 454
        }
      },
      "source": [
        "model = cv.fit(df_mod)\n",
        "#model = cv.fit(tokenize)\n",
        "result = model.transform(df_mod)\n",
        "#result = model.transform(tokenize)\n",
        "result.select(\"tok_features\").show(truncate=False)"
      ],
      "execution_count": 0,
      "outputs": [
        {
          "output_type": "stream",
          "text": [
            "+--------------------------------------------------------------------------------+\n",
            "|tok_features                                                                    |\n",
            "+--------------------------------------------------------------------------------+\n",
            "|(262144,[1,5,19,30,53,59,337],[1.0,1.0,1.0,1.0,1.0,1.0,1.0])                    |\n",
            "|(262144,[201,1625],[1.0,1.0])                                                   |\n",
            "|(262144,[10,28,329],[1.0,1.0,1.0])                                              |\n",
            "|(262144,[21,139,191,947],[1.0,1.0,1.0,1.0])                                     |\n",
            "|(262144,[1782,8687,255750],[1.0,1.0,1.0])                                       |\n",
            "|(262144,[72,113],[1.0,1.0])                                                     |\n",
            "|(262144,[0,2,11,15,90,1687,9052,10269],[1.0,1.0,1.0,1.0,1.0,1.0,1.0,1.0])       |\n",
            "|(262144,[0,107,190,506,11363],[1.0,1.0,1.0,1.0,1.0])                            |\n",
            "|(262144,[152,552],[1.0,1.0])                                                    |\n",
            "|(262144,[3,9,18],[1.0,1.0,1.0])                                                 |\n",
            "|(262144,[46,66,1177,1743,2008],[1.0,1.0,1.0,1.0,1.0])                           |\n",
            "|(262144,[8,209,277],[1.0,1.0,1.0])                                              |\n",
            "|(262144,[1,4,12,50,174,538,604,4626,5555],[1.0,1.0,1.0,1.0,1.0,1.0,1.0,1.0,1.0])|\n",
            "|(262144,[0,2,3,32,225,1100,23534],[1.0,1.0,1.0,1.0,1.0,1.0,1.0])                |\n",
            "|(262144,[14,56,84,634,1107,1454],[1.0,1.0,1.0,1.0,1.0,1.0])                     |\n",
            "|(262144,[1,13],[1.0,1.0])                                                       |\n",
            "|(262144,[15,29,332,7510],[1.0,1.0,1.0,1.0])                                     |\n",
            "|(262144,[242,20222,23625],[1.0,1.0,1.0])                                        |\n",
            "|(262144,[1,4598],[1.0,1.0])                                                     |\n",
            "|(262144,[13,79],[1.0,1.0])                                                      |\n",
            "+--------------------------------------------------------------------------------+\n",
            "only showing top 20 rows\n",
            "\n"
          ],
          "name": "stdout"
        }
      ]
    },
    {
      "cell_type": "code",
      "metadata": {
        "id": "UzdlLQEZYAOU",
        "colab_type": "code",
        "colab": {}
      },
      "source": [
        "from pyspark.sql.types import IntegerType\n",
        "result = result.withColumn(\"star_rating\", result[\"star_rating\"].cast(IntegerType()))"
      ],
      "execution_count": 0,
      "outputs": []
    },
    {
      "cell_type": "code",
      "metadata": {
        "id": "KbyBzQr_7FHg",
        "colab_type": "code",
        "outputId": "01878eab-9d6b-4d62-abca-68b50f9509bb",
        "colab": {
          "base_uri": "https://localhost:8080/",
          "height": 454
        }
      },
      "source": [
        "result.show()"
      ],
      "execution_count": 0,
      "outputs": [
        {
          "output_type": "stream",
          "text": [
            "+-----------+--------------------+--------------------+--------------------+\n",
            "|star_rating| tokenized_headlines|            features|        tok_features|\n",
            "+-----------+--------------------+--------------------+--------------------+\n",
            "|          4|['this', 'book', ...|[this,  book,  wa...|(262144,[1,5,19,3...|\n",
            "|          3|    ['fun', 'fluff']|       [fun,  fluff]|(262144,[201,1625...|\n",
            "|          4|\"['this', 'is', \"...|[\"[this,  is,  \"\"...|(262144,[10,28,32...|\n",
            "|          5|['fine', 'author'...|[fine,  author,  ...|(262144,[21,139,1...|\n",
            "|          4|['execellent', 'c...|[execellent,  cur...|(262144,[1782,868...|\n",
            "|          4|['interesting', '...| [interesting,  fun]|(262144,[72,113],...|\n",
            "|          4|\"['i', 'viewed', ...|[\"[i,  viewed,  t...|(262144,[0,2,11,1...|\n",
            "|          4|['no', 'frills', ...|[no,  frills,  ju...|(262144,[0,107,19...|\n",
            "|          5|['simple', 'enter...|[simple,  enterta...|(262144,[152,552]...|\n",
            "|          4|['a', 'good', 're...|   [a,  good,  read]|(262144,[3,9,18],...|\n",
            "|          5|['made', 'me', 'q...|[made,  me,  ques...|(262144,[46,66,11...|\n",
            "|          5|['the', 'perfect'...|[the,  perfect,  ...|(262144,[8,209,27...|\n",
            "|          4|['solid', 'book',...|[solid,  book,  a...|(262144,[1,4,12,5...|\n",
            "|          5|['a', 'riveting',...|[a,  riveting,  a...|(262144,[0,2,3,32...|\n",
            "|          4|['comprehensive',...|[comprehensive,  ...|(262144,[14,56,84...|\n",
            "|          4|   ['great', 'book']|      [great,  book]|(262144,[1,13],[1...|\n",
            "|          3|['problems', 'wit...|[problems,  with,...|(262144,[15,29,33...|\n",
            "|          2|['warmed', 'over'...|[warmed,  over,  ...|(262144,[242,2022...|\n",
            "|          5|['funniest', 'book']|   [funniest,  book]|(262144,[1,4598],...|\n",
            "|          5|   ['great', 'work']|      [great,  work]|(262144,[13,79],[...|\n",
            "+-----------+--------------------+--------------------+--------------------+\n",
            "only showing top 20 rows\n",
            "\n"
          ],
          "name": "stdout"
        }
      ]
    },
    {
      "cell_type": "code",
      "metadata": {
        "id": "G9OAffwdY80D",
        "colab_type": "code",
        "outputId": "cea9b2be-4d0c-4650-9cf5-83f8b3de1c57",
        "colab": {
          "base_uri": "https://localhost:8080/",
          "height": 134
        }
      },
      "source": [
        "result.printSchema()"
      ],
      "execution_count": 0,
      "outputs": [
        {
          "output_type": "stream",
          "text": [
            "root\n",
            " |-- star_rating: integer (nullable = true)\n",
            " |-- tokenized_headlines: string (nullable = true)\n",
            " |-- features: array (nullable = true)\n",
            " |    |-- element: string (containsNull = true)\n",
            " |-- tok_features: vector (nullable = true)\n",
            "\n"
          ],
          "name": "stdout"
        }
      ]
    },
    {
      "cell_type": "code",
      "metadata": {
        "id": "l1bKfdP2HDcg",
        "colab_type": "code",
        "colab": {}
      },
      "source": [
        "train, test = result.randomSplit([0.9, 0.1], seed=12345)"
      ],
      "execution_count": 0,
      "outputs": []
    },
    {
      "cell_type": "code",
      "metadata": {
        "id": "WSf2H9C6XOxs",
        "colab_type": "code",
        "outputId": "bafbff07-988c-4fb1-d4fa-363ec13359a0",
        "colab": {
          "base_uri": "https://localhost:8080/",
          "height": 286
        }
      },
      "source": [
        "from pyspark.ml.classification import LogisticRegression\n",
        "lr = LogisticRegression(labelCol=\"star_rating\", featuresCol=\"tok_features\",maxIter=10)\n",
        "model=lr.fit(train)\n",
        "predict_train=model.transform(train)\n",
        "#predict_test=model.transform(test)\n",
        "predict_train.select(\"star_rating\",\"prediction\").show(10)"
      ],
      "execution_count": 0,
      "outputs": [
        {
          "output_type": "stream",
          "text": [
            "+-----------+----------+\n",
            "|star_rating|prediction|\n",
            "+-----------+----------+\n",
            "|          1|       5.0|\n",
            "|          1|       5.0|\n",
            "|          1|       5.0|\n",
            "|          1|       4.0|\n",
            "|          1|       1.0|\n",
            "|          1|       1.0|\n",
            "|          1|       1.0|\n",
            "|          1|       5.0|\n",
            "|          1|       1.0|\n",
            "|          1|       1.0|\n",
            "+-----------+----------+\n",
            "only showing top 10 rows\n",
            "\n"
          ],
          "name": "stdout"
        }
      ]
    },
    {
      "cell_type": "code",
      "metadata": {
        "id": "dLGgzNMeap37",
        "colab_type": "code",
        "outputId": "cbbd9865-425d-4e0a-8826-912098f484cf",
        "colab": {
          "base_uri": "https://localhost:8080/",
          "height": 286
        }
      },
      "source": [
        "predict_test=model.transform(test)\n",
        "#predict_test=model.transform(test)\n",
        "predict_test.select(\"star_rating\",\"prediction\").show(10)"
      ],
      "execution_count": 0,
      "outputs": [
        {
          "output_type": "stream",
          "text": [
            "+-----------+----------+\n",
            "|star_rating|prediction|\n",
            "+-----------+----------+\n",
            "|          1|       1.0|\n",
            "|          1|       5.0|\n",
            "|          1|       5.0|\n",
            "|          1|       1.0|\n",
            "|          1|       2.0|\n",
            "|          1|       5.0|\n",
            "|          1|       5.0|\n",
            "|          1|       5.0|\n",
            "|          1|       5.0|\n",
            "|          1|       5.0|\n",
            "+-----------+----------+\n",
            "only showing top 10 rows\n",
            "\n"
          ],
          "name": "stdout"
        }
      ]
    },
    {
      "cell_type": "code",
      "metadata": {
        "id": "5lxiR9RkOT2f",
        "colab_type": "code",
        "colab": {}
      },
      "source": [
        "from pyspark.ml.evaluation import MulticlassClassificationEvaluator\n",
        "evaluator = MulticlassClassificationEvaluator(predictionCol=\"prediction\", labelCol=\"star_rating\") "
      ],
      "execution_count": 0,
      "outputs": []
    },
    {
      "cell_type": "code",
      "metadata": {
        "id": "DjMFkeJoY-fy",
        "colab_type": "code",
        "colab": {}
      },
      "source": [
        "print('Accuracy ', evaluator.evaluate(predict_train, \n",
        "                                      {evaluator.metricName: 'accuracy'}))"
      ],
      "execution_count": 0,
      "outputs": []
    },
    {
      "cell_type": "code",
      "metadata": {
        "id": "f3dB3QU1R6LO",
        "colab_type": "code",
        "outputId": "b6645672-0a73-4287-e8b9-e47b28ec4df6",
        "colab": {
          "base_uri": "https://localhost:8080/",
          "height": 34
        }
      },
      "source": [
        "print('Accuracy ', evaluator.evaluate(predict_test, \n",
        "                                      {evaluator.metricName: 'accuracy'}))"
      ],
      "execution_count": 0,
      "outputs": [
        {
          "output_type": "stream",
          "text": [
            "Accuracy  0.6493410807819517\n"
          ],
          "name": "stdout"
        }
      ]
    }
  ]
}