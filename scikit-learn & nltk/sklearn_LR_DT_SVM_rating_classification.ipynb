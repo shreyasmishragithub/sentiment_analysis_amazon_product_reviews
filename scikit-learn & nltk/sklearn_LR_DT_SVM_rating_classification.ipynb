{
 "cells": [
  {
   "cell_type": "code",
   "execution_count": 1,
   "metadata": {},
   "outputs": [],
   "source": [
    "import csv\n",
    "import pandas as pd\n",
    "import re\n",
    "from sklearn.model_selection import train_test_split\n",
    "from sklearn.pipeline import Pipeline\n",
    "from sklearn.feature_extraction.text import CountVectorizer\n",
    "from sklearn.linear_model import LogisticRegression\n",
    "from sklearn.metrics import accuracy_score, f1_score, roc_auc_score\n",
    "from sklearn.feature_extraction.text import TfidfVectorizer\n",
    "from sklearn.feature_extraction.text import HashingVectorizer\n",
    "from nltk.stem import WordNetLemmatizer\n",
    "from nltk.corpus import stopwords\n",
    "import nltk"
   ]
  },
  {
   "cell_type": "code",
   "execution_count": 2,
   "metadata": {},
   "outputs": [],
   "source": [
    "import warnings\n",
    "warnings.filterwarnings('ignore')"
   ]
  },
  {
   "cell_type": "code",
   "execution_count": 3,
   "metadata": {},
   "outputs": [],
   "source": [
    "data= pd.read_csv(r'C:\\New_partition\\Project_Pattern_Recognition\\amazon_books_review.csv')"
   ]
  },
  {
   "cell_type": "code",
   "execution_count": 17,
   "metadata": {},
   "outputs": [],
   "source": [
    "df_cleaned = data.head(100000)\n",
    "df_cleaned['star_rating'].count()\n",
    "df_cleaned['star_rating'].unique()\n",
    "df_cleaned['star_rating'].value_counts()\n",
    "indexNames = df_cleaned[ df_cleaned['star_rating'] == 'star_rating' ].index\n",
    "df_cleaned.drop(indexNames,inplace=True)\n",
    "df_cleaned.dropna(inplace=True)"
   ]
  },
  {
   "cell_type": "code",
   "execution_count": 18,
   "metadata": {
    "scrolled": true
   },
   "outputs": [
    {
     "data": {
      "text/plain": [
       "star_rating        0\n",
       "review_headline    0\n",
       "review_body        0\n",
       "dtype: int64"
      ]
     },
     "execution_count": 18,
     "metadata": {},
     "output_type": "execute_result"
    }
   ],
   "source": [
    "stop=stopwords.words('english')\n",
    "df_cleaned['star_rating']=df_cleaned['star_rating'].astype(float).astype(int)\n",
    "df_cleaned['review_body']=df_cleaned['review_body'].str.replace('<br />', r'')\n",
    "df_cleaned['review_body']=df_cleaned['review_body'].str.replace(\"[,'!;.–`:?><-]\",'')\n",
    "#df_cleaned['review_body']=df_cleaned['review_body'].str.replace(\"[!#$%&'()*+, -./:;<=>?@[\\]^_`{|}~]\",'')\n",
    "df_cleaned['review_body']=df_cleaned['review_body'].str.lower()\n",
    "#df_cleaned=df_cleaned[df_cleaned.review_body.str.split(' ').str.len()<300]\n",
    "df_cleaned['review_body']=df_cleaned.review_body.str.replace('[^a-zA-Z ]', '')\n",
    "df_cleaned.dropna(inplace=True)\n",
    "df_cleaned.isna().sum()"
   ]
  },
  {
   "cell_type": "code",
   "execution_count": 19,
   "metadata": {},
   "outputs": [],
   "source": [
    "X_train, X_test, y_train, y_test = train_test_split( df_cleaned['review_body'], df_cleaned['star_rating'], test_size=0.33, random_state=42)"
   ]
  },
  {
   "cell_type": "code",
   "execution_count": 20,
   "metadata": {},
   "outputs": [
    {
     "name": "stdout",
     "output_type": "stream",
     "text": [
      "Accuracy on train 0.980905\n",
      "Accuracy on test 0.668072\n"
     ]
    }
   ],
   "source": [
    "clf = Pipeline([\n",
    "    ('vect', CountVectorizer(analyzer='word', ngram_range=(1, 2))),\n",
    "    ('clf', LogisticRegression(max_iter=500,C=0.1,random_state=40,solver='newton-cg')),\n",
    "])\n",
    "clf = clf.fit(X_train, y_train)\n",
    "accuracy_train=accuracy_score(y_train, clf.predict(X_train))\n",
    "accuracy_test=accuracy_score(y_test, clf.predict(X_test))\n",
    "print('Accuracy on train %f' %accuracy_train)\n",
    "print('Accuracy on test %f' %accuracy_test)"
   ]
  },
  {
   "cell_type": "code",
   "execution_count": 21,
   "metadata": {},
   "outputs": [
    {
     "name": "stdout",
     "output_type": "stream",
     "text": [
      "Accuracy on train 0.853469\n",
      "Accuracy on test 0.649689\n"
     ]
    }
   ],
   "source": [
    "clf = Pipeline([\n",
    "    ('vect', CountVectorizer()),\n",
    "    ('clf', LogisticRegression(max_iter=500,C=0.1,random_state=40,solver='newton-cg')),\n",
    "])\n",
    "clf = clf.fit(X_train, y_train)\n",
    "accuracy_train=accuracy_score(y_train, clf.predict(X_train))\n",
    "accuracy_test=accuracy_score(y_test, clf.predict(X_test))\n",
    "print('Accuracy on train %f' %accuracy_train)\n",
    "print('Accuracy on test %f' %accuracy_test)"
   ]
  },
  {
   "cell_type": "code",
   "execution_count": 22,
   "metadata": {},
   "outputs": [
    {
     "name": "stdout",
     "output_type": "stream",
     "text": [
      "Accuracy on train 0.634637\n",
      "Accuracy on test 0.628090\n"
     ]
    }
   ],
   "source": [
    "clf = Pipeline([\n",
    "    ('vect',TfidfVectorizer()),\n",
    "    ('clf', LogisticRegression(max_iter=500,C=0.1,random_state=40,solver='newton-cg')),\n",
    "])\n",
    "clf = clf.fit(X_train, y_train)\n",
    "accuracy_train=accuracy_score(y_train, clf.predict(X_train))\n",
    "accuracy_test=accuracy_score(y_test, clf.predict(X_test))\n",
    "print('Accuracy on train %f' %accuracy_train)\n",
    "print('Accuracy on test %f' %accuracy_test)"
   ]
  },
  {
   "cell_type": "code",
   "execution_count": 23,
   "metadata": {},
   "outputs": [
    {
     "name": "stdout",
     "output_type": "stream",
     "text": [
      "Accuracy on train 0.999821\n",
      "Accuracy on test 0.526953\n"
     ]
    }
   ],
   "source": [
    "from sklearn.tree import DecisionTreeClassifier\n",
    "clf = Pipeline([\n",
    "    ('vect', CountVectorizer(analyzer='word', ngram_range=(1, 2))),\n",
    "    ('clf', DecisionTreeClassifier()),\n",
    "])\n",
    "clf = clf.fit(X_train, y_train)\n",
    "accuracy_train=accuracy_score(y_train, clf.predict(X_train))\n",
    "accuracy_test=accuracy_score(y_test, clf.predict(X_test))\n",
    "print('Accuracy on train %f' %accuracy_train)\n",
    "print('Accuracy on test %f' %accuracy_test)"
   ]
  },
  {
   "cell_type": "code",
   "execution_count": 25,
   "metadata": {},
   "outputs": [
    {
     "name": "stdout",
     "output_type": "stream",
     "text": [
      "Accuracy on train 0.999821\n",
      "Accuracy on test 0.508934\n"
     ]
    }
   ],
   "source": [
    "clf = Pipeline([\n",
    "    ('vect',TfidfVectorizer()),\n",
    "    ('clf', DecisionTreeClassifier()),\n",
    "])\n",
    "clf = clf.fit(X_train, y_train)\n",
    "accuracy_train=accuracy_score(y_train, clf.predict(X_train))\n",
    "accuracy_test=accuracy_score(y_test, clf.predict(X_test))\n",
    "print('Accuracy on train %f' %accuracy_train)\n",
    "print('Accuracy on test %f' %accuracy_test)"
   ]
  },
  {
   "cell_type": "code",
   "execution_count": 24,
   "metadata": {},
   "outputs": [
    {
     "name": "stdout",
     "output_type": "stream",
     "text": [
      "Accuracy on train 0.923634\n",
      "Accuracy on test 0.646716\n"
     ]
    }
   ],
   "source": [
    "from sklearn.svm import LinearSVC\n",
    "clf = Pipeline([\n",
    "    ('vect',TfidfVectorizer()),\n",
    "    ('clf',LinearSVC()),\n",
    "])\n",
    "clf = clf.fit(X_train, y_train)\n",
    "accuracy_train=accuracy_score(y_train, clf.predict(X_train))\n",
    "accuracy_test=accuracy_score(y_test, clf.predict(X_test))\n",
    "print('Accuracy on train %f' %accuracy_train)\n",
    "print('Accuracy on test %f' %accuracy_test)"
   ]
  },
  {
   "cell_type": "code",
   "execution_count": null,
   "metadata": {},
   "outputs": [],
   "source": []
  }
 ],
 "metadata": {
  "kernelspec": {
   "display_name": "Python 3",
   "language": "python",
   "name": "python3"
  },
  "language_info": {
   "codemirror_mode": {
    "name": "ipython",
    "version": 3
   },
   "file_extension": ".py",
   "mimetype": "text/x-python",
   "name": "python",
   "nbconvert_exporter": "python",
   "pygments_lexer": "ipython3",
   "version": "3.7.4"
  }
 },
 "nbformat": 4,
 "nbformat_minor": 2
}
